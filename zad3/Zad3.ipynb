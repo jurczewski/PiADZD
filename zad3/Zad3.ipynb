{
 "cells": [
  {
   "cell_type": "code",
   "execution_count": 1,
   "metadata": {
    "ExecuteTime": {
     "end_time": "2020-11-17T18:50:07.199684Z",
     "start_time": "2020-11-17T18:50:06.722653Z"
    }
   },
   "outputs": [],
   "source": [
    "from pyspark import SparkConf, SparkContext\n",
    "import math\n",
    "import numpy as np\n",
    "import matplotlib.pyplot as plt\n",
    "from matplotlib.ticker import StrMethodFormatter"
   ]
  },
  {
   "cell_type": "code",
   "execution_count": 2,
   "metadata": {
    "ExecuteTime": {
     "end_time": "2020-11-17T18:50:11.427653Z",
     "start_time": "2020-11-17T18:50:07.201665Z"
    }
   },
   "outputs": [],
   "source": [
    "sc = SparkContext('local[*]')"
   ]
  },
  {
   "cell_type": "code",
   "execution_count": 3,
   "metadata": {
    "ExecuteTime": {
     "end_time": "2020-11-17T18:50:12.122670Z",
     "start_time": "2020-11-17T18:50:11.429654Z"
    }
   },
   "outputs": [],
   "source": [
    "def parse_line(line):\n",
    "    return [float(x) for x in line.split(' ')]\n",
    "\n",
    "\n",
    "file = sc.textFile('3/3a.txt')\n",
    "points = file.map(parse_line)\n",
    "\n",
    "ITERATIONS = 20"
   ]
  },
  {
   "cell_type": "markdown",
   "metadata": {},
   "source": [
    "### Metrics declaration"
   ]
  },
  {
   "cell_type": "code",
   "execution_count": 4,
   "metadata": {
    "ExecuteTime": {
     "end_time": "2020-11-17T18:50:12.129653Z",
     "start_time": "2020-11-17T18:50:12.124653Z"
    }
   },
   "outputs": [],
   "source": [
    "class Euclidean:\n",
    "    def distance( point, centroid):\n",
    "        distances = [(pi-ci) ** 2 for pi, ci in zip(point, centroid)]\n",
    "        return math.sqrt(sum(distances))\n",
    "\n",
    "    \n",
    "    def cost(point, centroid):\n",
    "        return Euclidean.distance(point, centroid) ** 2"
   ]
  },
  {
   "cell_type": "code",
   "execution_count": 5,
   "metadata": {
    "ExecuteTime": {
     "end_time": "2020-11-17T18:50:12.137655Z",
     "start_time": "2020-11-17T18:50:12.131653Z"
    }
   },
   "outputs": [],
   "source": [
    "class Manhattan:\n",
    "    def distance(point, centroid):\n",
    "        distances = [abs(pi-ci) for pi, ci in zip(point, centroid)]\n",
    "        return sum(distances)\n",
    "    \n",
    "    \n",
    "    def cost(point, centroid):\n",
    "        return Manhattan.distance(point, centroid)"
   ]
  },
  {
   "cell_type": "markdown",
   "metadata": {},
   "source": [
    "### KMeans declaration"
   ]
  },
  {
   "cell_type": "code",
   "execution_count": 6,
   "metadata": {
    "ExecuteTime": {
     "end_time": "2020-11-17T18:50:12.148654Z",
     "start_time": "2020-11-17T18:50:12.139653Z"
    }
   },
   "outputs": [],
   "source": [
    "def map_nearest_centroid(point, centroids, metric):\n",
    "    center_distance = [(index, metric.distance(point, c)) for index, c in enumerate(centroids)]\n",
    "    nearest_center = min(center_distance, key=lambda k: k[1])\n",
    "    return (nearest_center[0], point)\n",
    "\n",
    "\n",
    "def pair_cost(centroid_to_point, centroids, metric):\n",
    "    c_index, point = centroid_to_point\n",
    "    center = centroids[c_index]\n",
    "    return metric.cost(point, center)\n",
    "\n",
    "\n",
    "def calculate_mean(points):\n",
    "    return np.mean(list(points), axis=0)\n",
    "\n",
    "\n",
    "def kmeans_cost(max_iters, points, centroids, metric):\n",
    "    iter_cost = []\n",
    "    for _ in range(max_iters):\n",
    "        centroid_to_point_pairs = points.map(lambda point: map_nearest_centroid(point, centroids, metric))\n",
    "        \n",
    "        cost = centroid_to_point_pairs.map(lambda pair: pair_cost(pair, centroids, metric)).sum()\n",
    "        iter_cost.append(cost)\n",
    "        \n",
    "        centroids = centroid_to_point_pairs.groupByKey() \\\n",
    "                        .mapValues(calculate_mean) \\\n",
    "                        .values().collect()\n",
    "        \n",
    "    return iter_cost"
   ]
  },
  {
   "cell_type": "markdown",
   "metadata": {},
   "source": [
    "### Plotting methods"
   ]
  },
  {
   "cell_type": "code",
   "execution_count": 7,
   "metadata": {
    "ExecuteTime": {
     "end_time": "2020-11-17T18:50:12.157655Z",
     "start_time": "2020-11-17T18:50:12.150655Z"
    }
   },
   "outputs": [],
   "source": [
    "def print_costs(costs):\n",
    "    for i, c in enumerate(costs):\n",
    "        print(f'{i}:  {c:14.2f}')\n",
    "        \n",
    "    cost_change = (iter_costs[0]-iter_costs[9])/iter_costs[0] \n",
    "    print(f'\\nCost change: {cost_change*100:04.2f}%')\n",
    "    \n",
    "    \n",
    "def plot_costs(iter_costs, metric_name):   \n",
    "    plt.plot(iter_costs, marker='o', color='b', )\n",
    "    plt.ylabel('cost')\n",
    "    plt.xlabel('iterations')\n",
    "    plt.title(metric_name)\n",
    "    plt.gca().ticklabel_format(axis='both', style='plain')\n",
    "    plt.show()"
   ]
  },
  {
   "cell_type": "markdown",
   "metadata": {},
   "source": [
    "### Centers randomly selected from points"
   ]
  },
  {
   "cell_type": "code",
   "execution_count": 8,
   "metadata": {
    "ExecuteTime": {
     "end_time": "2020-11-17T18:50:12.165653Z",
     "start_time": "2020-11-17T18:50:12.159652Z"
    }
   },
   "outputs": [],
   "source": [
    "centroids = np.loadtxt('3/3b.txt')"
   ]
  },
  {
   "cell_type": "markdown",
   "metadata": {},
   "source": [
    "#### Euclidean metric"
   ]
  },
  {
   "cell_type": "code",
   "execution_count": 9,
   "metadata": {
    "ExecuteTime": {
     "end_time": "2020-11-17T18:52:40.597133Z",
     "start_time": "2020-11-17T18:50:12.168653Z"
    }
   },
   "outputs": [
    {
     "name": "stdout",
     "output_type": "stream",
     "text": [
      "0:    623660345.31\n",
      "1:    509862908.30\n",
      "2:    485480681.87\n",
      "3:    463997011.69\n",
      "4:    460969266.57\n",
      "5:    460537847.98\n",
      "6:    460313099.65\n",
      "7:    460003523.89\n",
      "8:    459570539.32\n",
      "9:    459021103.34\n",
      "10:    458490656.19\n",
      "11:    457944232.59\n",
      "12:    457558005.20\n",
      "13:    457290136.35\n",
      "14:    457050555.06\n",
      "15:    456892235.62\n",
      "16:    456703630.74\n",
      "17:    456404203.02\n",
      "18:    456177800.54\n",
      "19:    455986871.03\n",
      "\n",
      "Cost change: 26.40%\n"
     ]
    },
    {
     "data": {
      "image/png": "[encoded data removed]",
      "text/plain": [
       "<Figure size 432x288 with 1 Axes>"
      ]
     },
     "metadata": {
      "needs_background": "light"
     },
     "output_type": "display_data"
    }
   ],
   "source": [
    "iter_costs = kmeans_cost(ITERATIONS, points, centroids, Euclidean)\n",
    "\n",
    "print_costs(iter_costs)\n",
    "plot_costs(iter_costs, 'Euclidean metric')"
   ]
  },
  {
   "cell_type": "markdown",
   "metadata": {},
   "source": [
    "#### Manhattan metric"
   ]
  },
  {
   "cell_type": "code",
   "execution_count": 10,
   "metadata": {
    "ExecuteTime": {
     "end_time": "2020-11-17T18:54:49.385152Z",
     "start_time": "2020-11-17T18:52:40.600133Z"
    }
   },
   "outputs": [
    {
     "name": "stdout",
     "output_type": "stream",
     "text": [
      "0:       550117.14\n",
      "1:       464869.28\n",
      "2:       470897.38\n",
      "3:       483914.41\n",
      "4:       489216.07\n",
      "5:       487629.67\n",
      "6:       483711.92\n",
      "7:       475330.77\n",
      "8:       474871.24\n",
      "9:       457232.92\n",
      "10:       447494.39\n",
      "11:       450915.01\n",
      "12:       451250.37\n",
      "13:       451974.60\n",
      "14:       451570.36\n",
      "15:       452739.01\n",
      "16:       453082.73\n",
      "17:       450583.67\n",
      "18:       450368.75\n",
      "19:       449011.36\n",
      "\n",
      "Cost change: 16.88%\n"
     ]
    },
    {
     "data": {
      "image/png": "[encoded data removed]",
      "text/plain": [
       "<Figure size 432x288 with 1 Axes>"
      ]
     },
     "metadata": {
      "needs_background": "light"
     },
     "output_type": "display_data"
    }
   ],
   "source": [
    "iter_costs = kmeans_cost(ITERATIONS, points, centroids, Manhattan)\n",
    "\n",
    "print_costs(iter_costs)\n",
    "plot_costs(iter_costs, 'Manhattan metric')"
   ]
  },
  {
   "cell_type": "markdown",
   "metadata": {},
   "source": [
    "### Centers from points located furthest away from each other "
   ]
  },
  {
   "cell_type": "code",
   "execution_count": 11,
   "metadata": {
    "ExecuteTime": {
     "end_time": "2020-11-17T18:54:49.393148Z",
     "start_time": "2020-11-17T18:54:49.388147Z"
    }
   },
   "outputs": [],
   "source": [
    "centroids = np.loadtxt('3/3c.txt')"
   ]
  },
  {
   "cell_type": "markdown",
   "metadata": {},
   "source": [
    "#### Euclidean metric"
   ]
  },
  {
   "cell_type": "code",
   "execution_count": 12,
   "metadata": {
    "ExecuteTime": {
     "end_time": "2020-11-17T18:57:24.922425Z",
     "start_time": "2020-11-17T18:54:49.395149Z"
    }
   },
   "outputs": [
    {
     "name": "stdout",
     "output_type": "stream",
     "text": [
      "0:    438747790.03\n",
      "1:    249803933.63\n",
      "2:    194494814.41\n",
      "3:    169804841.45\n",
      "4:    156295748.81\n",
      "5:    149094208.11\n",
      "6:    142508531.62\n",
      "7:    132303869.41\n",
      "8:    117170969.84\n",
      "9:    108547377.18\n",
      "10:    102237203.32\n",
      "11:     98278015.75\n",
      "12:     95630226.12\n",
      "13:     93793314.05\n",
      "14:     92377131.97\n",
      "15:     91541606.25\n",
      "16:     91045573.83\n",
      "17:     90752240.10\n",
      "18:     90470170.18\n",
      "19:     90216416.18\n",
      "\n",
      "Cost change: 75.26%\n"
     ]
    },
    {
     "data": {
      "image/png": "[encoded data removed]",
      "text/plain": [
       "<Figure size 432x288 with 1 Axes>"
      ]
     },
     "metadata": {
      "needs_background": "light"
     },
     "output_type": "display_data"
    }
   ],
   "source": [
    "iter_costs = kmeans_cost(ITERATIONS, points, centroids, Euclidean)\n",
    "\n",
    "print_costs(iter_costs)\n",
    "plot_costs(iter_costs, 'Euclidean metric')"
   ]
  },
  {
   "cell_type": "markdown",
   "metadata": {},
   "source": [
    "#### Manhattan metric"
   ]
  },
  {
   "cell_type": "code",
   "execution_count": 13,
   "metadata": {
    "ExecuteTime": {
     "end_time": "2020-11-17T18:59:41.718382Z",
     "start_time": "2020-11-17T18:57:24.924426Z"
    }
   },
   "outputs": [
    {
     "name": "stdout",
     "output_type": "stream",
     "text": [
      "0:      1433739.31\n",
      "1:      1084488.78\n",
      "2:       973431.71\n",
      "3:       895934.59\n",
      "4:       865128.34\n",
      "5:       845846.65\n",
      "6:       827219.58\n",
      "7:       803590.35\n",
      "8:       756039.52\n",
      "9:       717332.90\n",
      "10:       694587.93\n",
      "11:       684444.50\n",
      "12:       674574.75\n",
      "13:       667409.47\n",
      "14:       663556.63\n",
      "15:       660162.78\n",
      "16:       656041.32\n",
      "17:       653036.75\n",
      "18:       651112.43\n",
      "19:       649689.01\n",
      "\n",
      "Cost change: 49.97%\n"
     ]
    },
    {
     "data": {
      "image/png": "[encoded data removed]",
      "text/plain": [
       "<Figure size 432x288 with 1 Axes>"
      ]
     },
     "metadata": {
      "needs_background": "light"
     },
     "output_type": "display_data"
    }
   ],
   "source": [
    "iter_costs = kmeans_cost(ITERATIONS, points, centroids, Manhattan)\n",
    "\n",
    "print_costs(iter_costs)\n",
    "plot_costs(iter_costs, 'Manhattan metric')"
   ]
  },
  {
   "cell_type": "code",
   "execution_count": 14,
   "metadata": {
    "ExecuteTime": {
     "end_time": "2020-11-17T18:59:42.573960Z",
     "start_time": "2020-11-17T18:59:41.720364Z"
    }
   },
   "outputs": [],
   "source": [
    "sc.stop()"
   ]
  }
 ],
 "metadata": {
  "kernelspec": {
   "display_name": "Python 3",
   "language": "python",
   "name": "python3"
  },
  "language_info": {
   "codemirror_mode": {
    "name": "ipython",
    "version": 3
   },
   "file_extension": ".py",
   "mimetype": "text/x-python",
   "name": "python",
   "nbconvert_exporter": "python",
   "pygments_lexer": "ipython3",
   "version": "3.8.6"
  },
  "pycharm": {
   "stem_cell": {
    "cell_type": "raw",
    "metadata": {
     "collapsed": false
    },
    "source": []
   }
  }
 },
 "nbformat": 4,
 "nbformat_minor": 4
}
