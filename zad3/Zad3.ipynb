{
 "cells": [
  {
   "cell_type": "code",
   "execution_count": 1,
   "metadata": {},
   "outputs": [],
   "source": [
    "from pyspark import SparkConf, SparkContext\n",
    "import math\n",
    "import numpy as np"
   ]
  },
  {
   "cell_type": "code",
   "execution_count": 2,
   "metadata": {},
   "outputs": [],
   "source": [
    "sc = SparkContext('local[*]')"
   ]
  },
  {
   "cell_type": "code",
   "execution_count": 3,
   "metadata": {},
   "outputs": [],
   "source": [
    "def parse_line(line):\n",
    "    return [float(x) for x in line.split(' ')]\n",
    "\n",
    "\n",
    "file = sc.textFile('3/3a.txt')\n",
    "points = file.map(parse_line)\n",
    "\n",
    "ITERATIONS = 10"
   ]
  },
  {
   "cell_type": "markdown",
   "metadata": {},
   "source": [
    "### Metrics declaration"
   ]
  },
  {
   "cell_type": "code",
   "execution_count": 4,
   "metadata": {},
   "outputs": [],
   "source": [
    "class Euclidean:\n",
    "    def distance( point, centroid):\n",
    "        distances = [(pi-ci) ** 2 for pi, ci in zip(point, centroid)]\n",
    "        return math.sqrt(sum(distances))\n",
    "\n",
    "    \n",
    "    def cost(point, centroid):\n",
    "        return Euclidean.distance(point, centroid) ** 2"
   ]
  },
  {
   "cell_type": "code",
   "execution_count": 5,
   "metadata": {},
   "outputs": [],
   "source": [
    "class Manhattan:\n",
    "    def distance(point, centroid):\n",
    "        distances = [abs(pi-ci) for pi, ci in zip(point, centroid)]\n",
    "        return sum(distances)\n",
    "    \n",
    "    \n",
    "    def cost(point, centroid):\n",
    "        return Manhattan.distance(point, centroid)"
   ]
  },
  {
   "cell_type": "markdown",
   "metadata": {},
   "source": [
    "### KMeans declaration"
   ]
  },
  {
   "cell_type": "code",
   "execution_count": 6,
   "metadata": {},
   "outputs": [],
   "source": [
    "def map_nearest_centroid(point, centroids, metric):\n",
    "    center_distance = [(index, metric.distance(point, c)) for index, c in enumerate(centroids)]\n",
    "    nearest_center = min(center_distance, key=lambda k: k[1])\n",
    "    return (nearest_center[0], point)\n",
    "\n",
    "\n",
    "def pair_cost(centroid_to_point, centroids, metric):\n",
    "    c_index, point = centroid_to_point\n",
    "    center = centroids[c_index]\n",
    "    return metric.cost(point, center)\n",
    "\n",
    "\n",
    "def calculate_mean(points):\n",
    "    return np.mean(list(points), axis=0)\n",
    "\n",
    "\n",
    "def kmeans_cost(max_iters, points, centroids, metric):\n",
    "    iter_cost = []\n",
    "    for _ in range(max_iters):\n",
    "        centroid_to_point_pairs = points.map(lambda point: map_nearest_centroid(point, centroids, metric))\n",
    "        centroids = centroid_to_point_pairs.groupByKey() \\\n",
    "                        .mapValues(calculate_mean) \\\n",
    "                        .values().collect()\n",
    "        \n",
    "        cost = centroid_to_point_pairs.map(lambda pair: pair_cost(pair, centroids, metric)).sum()\n",
    "        iter_cost.append(cost)\n",
    "        \n",
    "    return iter_cost"
   ]
  },
  {
   "cell_type": "markdown",
   "metadata": {},
   "source": [
    "### Plotting methods"
   ]
  },
  {
   "cell_type": "code",
   "execution_count": 7,
   "metadata": {},
   "outputs": [],
   "source": [
    "def print_costs(costs):\n",
    "    for i, c in enumerate(costs):\n",
    "        print(f'{i}:  {c:14.2f}')\n",
    "        \n",
    "    cost_change = (iter_costs[0]-iter_costs[-1])/iter_costs[0] \n",
    "    print(f'\\nCost change: {cost_change*100:04.2f}%')\n",
    "    \n",
    "    \n",
    "def plot_costs(costs):\n",
    "    print('todo')"
   ]
  },
  {
   "cell_type": "markdown",
   "metadata": {},
   "source": [
    "### Centers randomly selected from points"
   ]
  },
  {
   "cell_type": "code",
   "execution_count": 8,
   "metadata": {},
   "outputs": [],
   "source": [
    "centroids = np.loadtxt('3/3b.txt')"
   ]
  },
  {
   "cell_type": "markdown",
   "metadata": {},
   "source": [
    "#### Euclidean metric"
   ]
  },
  {
   "cell_type": "code",
   "execution_count": 9,
   "metadata": {},
   "outputs": [
    {
     "name": "stdout",
     "output_type": "stream",
     "text": [
      "0:    509862908.30\n",
      "1:    485480681.87\n",
      "2:    463997011.69\n",
      "3:    460969266.57\n",
      "4:    460537847.98\n",
      "5:    460313099.65\n",
      "6:    460003523.89\n",
      "7:    459570539.32\n",
      "8:    459021103.34\n",
      "9:    458490656.19\n",
      "\n",
      "Cost change: 10.08%\n",
      "todo\n"
     ]
    }
   ],
   "source": [
    "iter_costs = kmeans_cost(ITERATIONS, points, centroids, Euclidean)\n",
    "\n",
    "print_costs(iter_costs)\n",
    "plot_costs(iter_costs)"
   ]
  },
  {
   "cell_type": "markdown",
   "metadata": {},
   "source": [
    "#### Manhattan metric"
   ]
  },
  {
   "cell_type": "code",
   "execution_count": 10,
   "metadata": {},
   "outputs": [
    {
     "name": "stdout",
     "output_type": "stream",
     "text": [
      "0:       464869.28\n",
      "1:       470897.38\n",
      "2:       483914.41\n",
      "3:       489216.07\n",
      "4:       487629.67\n",
      "5:       483711.92\n",
      "6:       475330.77\n",
      "7:       474871.24\n",
      "8:       457232.92\n",
      "9:       447494.39\n",
      "\n",
      "Cost change: 3.74%\n",
      "todo\n"
     ]
    }
   ],
   "source": [
    "iter_costs = kmeans_cost(ITERATIONS, points, centroids, Manhattan)\n",
    "\n",
    "print_costs(iter_costs)\n",
    "plot_costs(iter_costs)"
   ]
  },
  {
   "cell_type": "markdown",
   "metadata": {},
   "source": [
    "### Centers from points located furthest away from each other "
   ]
  },
  {
   "cell_type": "code",
   "execution_count": 11,
   "metadata": {},
   "outputs": [],
   "source": [
    "centroids = np.loadtxt('3/3c.txt')"
   ]
  },
  {
   "cell_type": "markdown",
   "metadata": {},
   "source": [
    "#### Euclidean metric"
   ]
  },
  {
   "cell_type": "code",
   "execution_count": 12,
   "metadata": {},
   "outputs": [
    {
     "name": "stdout",
     "output_type": "stream",
     "text": [
      "0:    249803933.63\n",
      "1:    194494814.41\n",
      "2:    169804841.45\n",
      "3:    156295748.81\n",
      "4:    149094208.11\n",
      "5:    142508531.62\n",
      "6:    132303869.41\n",
      "7:    117170969.84\n",
      "8:    108547377.18\n",
      "9:    102237203.32\n",
      "\n",
      "Cost change: 59.07%\n",
      "todo\n"
     ]
    }
   ],
   "source": [
    "iter_costs = kmeans_cost(ITERATIONS, points, centroids, Euclidean)\n",
    "\n",
    "print_costs(iter_costs)\n",
    "plot_costs(iter_costs)"
   ]
  },
  {
   "cell_type": "markdown",
   "metadata": {},
   "source": [
    "#### Manhattan metric"
   ]
  },
  {
   "cell_type": "code",
   "execution_count": 13,
   "metadata": {},
   "outputs": [
    {
     "name": "stdout",
     "output_type": "stream",
     "text": [
      "0:      1084488.78\n",
      "1:       973431.71\n",
      "2:       895934.59\n",
      "3:       865128.34\n",
      "4:       845846.65\n",
      "5:       827219.58\n",
      "6:       803590.35\n",
      "7:       756039.52\n",
      "8:       717332.90\n",
      "9:       694587.93\n",
      "\n",
      "Cost change: 35.95%\n",
      "todo\n"
     ]
    }
   ],
   "source": [
    "iter_costs = kmeans_cost(ITERATIONS, points, centroids, Manhattan)\n",
    "\n",
    "print_costs(iter_costs)\n",
    "plot_costs(iter_costs)"
   ]
  },
  {
   "cell_type": "code",
   "execution_count": 14,
   "metadata": {},
   "outputs": [],
   "source": [
    "sc.stop()"
   ]
  }
 ],
 "metadata": {
  "kernelspec": {
   "display_name": "Python 3",
   "language": "python",
   "name": "python3"
  },
  "language_info": {
   "codemirror_mode": {
    "name": "ipython",
    "version": 3
   },
   "file_extension": ".py",
   "mimetype": "text/x-python",
   "name": "python",
   "nbconvert_exporter": "python",
   "pygments_lexer": "ipython3",
   "version": "3.8.6"
  },
  "pycharm": {
   "stem_cell": {
    "cell_type": "raw",
    "source": [],
    "metadata": {
     "collapsed": false
    }
   }
  }
 },
 "nbformat": 4,
 "nbformat_minor": 4
}