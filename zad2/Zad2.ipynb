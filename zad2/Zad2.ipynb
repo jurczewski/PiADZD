{
 "cells": [
  {
   "cell_type": "code",
   "execution_count": 1,
   "metadata": {},
   "outputs": [],
   "source": [
    "import sys\n",
    "import csv\n",
    "import itertools as it\n",
    "from pyspark import SparkConf, SparkContext\n",
    "from operator import add"
   ]
  },
  {
   "cell_type": "code",
   "execution_count": 2,
   "metadata": {},
   "outputs": [],
   "source": [
    "sc = SparkContext('local[*]')\n",
    "file = sc.textFile('2.txt')"
   ]
  },
  {
   "cell_type": "code",
   "execution_count": 3,
   "metadata": {},
   "outputs": [],
   "source": [
    "def split_line(line):\n",
    "    user, friends = line.split('\\t', 1)\n",
    "    return (user, friends.split(','))\n",
    "    \n",
    "user_friends = file.map(lambda line: split_line(line))\n",
    "# user_friends.take(5)"
   ]
  },
  {
   "cell_type": "code",
   "execution_count": 4,
   "metadata": {},
   "outputs": [],
   "source": [
    "def map_frienships(user_friends):\n",
    "    user, friend_list = user_friends[0], user_friends[1]\n",
    "    \n",
    "    user_friend_pairs = [((user, fr), float('-inf')) for fr in friend_list]\n",
    "    possible_frend_pairs = [((fr1, fr2), 1) for fr1, fr2 in it.combinations(friend_list, 2)]\n",
    "    \n",
    "    return user_friend_pairs + possible_frend_pairs\n",
    "\n",
    "frienship_pairs = user_friends.flatMap(map_frienships)\n",
    "# frienship_pairs.take(5)"
   ]
  },
  {
   "cell_type": "code",
   "execution_count": 5,
   "metadata": {},
   "outputs": [],
   "source": [
    "recommendation_count = frienship_pairs.reduceByKey(add) \\\n",
    "                                      .filter(lambda val: val[1] > 0)\n",
    "# recommendation_count.take(5)"
   ]
  },
  {
   "cell_type": "code",
   "execution_count": 6,
   "metadata": {},
   "outputs": [],
   "source": [
    "def map_to_user_recommendation(pair):\n",
    "    users, mutual_count = pair[0], pair[1]\n",
    "    u1, u2 = users[0], users[1]\n",
    "    return (int(u1), (u2, mutual_count))\n",
    "\n",
    "def top_recommendations(user_recs):\n",
    "    return sorted(user_recs, key=lambda rec: (-rec[1], rec[0]))[:10]\n",
    "\n",
    "user_recommendations = recommendation_count.map(map_to_user_recommendation) \\\n",
    "                                           .groupByKey() \\\n",
    "                                           .mapValues(top_recommendations) \\\n",
    "                                           .sortByKey()\n",
    "# user_recommendations.take(5)"
   ]
  },
  {
   "cell_type": "code",
   "execution_count": 7,
   "metadata": {},
   "outputs": [],
   "source": [
    "def parse_recommendation(user_recs):\n",
    "    user, recs = user_recs[0], user_recs[1]\n",
    "    rec_list = [str(rec[0]) for rec in recs]\n",
    "    return str(user) + '\\t' + ', '.join(rec_list)\n",
    "\n",
    "result = user_recommendations.map(parse_recommendation).collect()\n",
    "# result[:5]"
   ]
  },
  {
   "cell_type": "code",
   "execution_count": 8,
   "metadata": {},
   "outputs": [],
   "source": [
    "with open(\"result.txt\", \"w\") as outfile:\n",
    "    outfile.write(\"\\n\".join(result))"
   ]
  },
  {
   "cell_type": "code",
   "execution_count": 9,
   "metadata": {},
   "outputs": [],
   "source": [
    "sc.stop()"
   ]
  }
 ],
 "metadata": {
  "kernelspec": {
   "display_name": "Python 3",
   "language": "python",
   "name": "python3"
  },
  "language_info": {
   "codemirror_mode": {
    "name": "ipython",
    "version": 3
   },
   "file_extension": ".py",
   "mimetype": "text/x-python",
   "name": "python",
   "nbconvert_exporter": "python",
   "pygments_lexer": "ipython3",
   "version": "3.8.6"
  }
 },
 "nbformat": 4,
 "nbformat_minor": 4
}
