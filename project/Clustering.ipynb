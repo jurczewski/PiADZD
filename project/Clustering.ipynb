{
 "cells": [
  {
   "cell_type": "code",
   "execution_count": 18,
   "metadata": {
    "ExecuteTime": {
     "end_time": "2021-01-17T16:45:27.455370Z",
     "start_time": "2021-01-17T16:45:27.305231Z"
    }
   },
   "outputs": [],
   "source": [
    "from pyspark.ml.feature import StringIndexer, OneHotEncoder, VectorAssembler\n",
    "from pyspark.ml.evaluation import ClusteringEvaluator\n",
    "from pyspark.ml.clustering import GaussianMixture\n",
    "from pyspark.ml.clustering import BisectingKMeans\n",
    "from pyspark.ml.clustering import KMeans\n",
    "from pyspark.ml.clustering import LDA\n",
    "from pyspark.sql.functions import col\n",
    "from pyspark.sql import SparkSession\n",
    "import pandas as pd\n",
    "\n",
    "\n",
    "if __name__ == \"__main__\":\n",
    "    spark = SparkSession\\\n",
    "        .builder\\\n",
    "        .appName(\"Algorithms\")\\\n",
    "        .getOrCreate()"
   ]
  },
  {
   "cell_type": "code",
   "execution_count": 19,
   "metadata": {
    "ExecuteTime": {
     "end_time": "2021-01-17T16:45:28.200721Z",
     "start_time": "2021-01-17T16:45:28.016207Z"
    }
   },
   "outputs": [],
   "source": [
    "df = spark.read.csv('distance2.csv')\n",
    "# Convert columns to float\n",
    "df = df.select(*(col(c).cast(\"float\").alias(c) for c in df.columns))"
   ]
  },
  {
   "cell_type": "code",
   "execution_count": 20,
   "metadata": {
    "ExecuteTime": {
     "end_time": "2021-01-17T16:45:28.787226Z",
     "start_time": "2021-01-17T16:45:28.675239Z"
    }
   },
   "outputs": [
    {
     "data": {
      "text/plain": [
       "DataFrame[summary: string, _c0: string, _c1: string]"
      ]
     },
     "execution_count": 20,
     "metadata": {},
     "output_type": "execute_result"
    }
   ],
   "source": [
    "df.describe()"
   ]
  },
  {
   "cell_type": "code",
   "execution_count": 21,
   "metadata": {
    "ExecuteTime": {
     "end_time": "2021-01-17T16:45:29.391051Z",
     "start_time": "2021-01-17T16:45:29.280050Z"
    }
   },
   "outputs": [
    {
     "name": "stdout",
     "output_type": "stream",
     "text": [
      "+-------------+\n",
      "|     features|\n",
      "+-------------+\n",
      "|  [363.0,1.0]|\n",
      "|  [363.0,2.0]|\n",
      "| [333.0,33.0]|\n",
      "| [333.0,40.0]|\n",
      "| [333.0,20.0]|\n",
      "|[333.0,350.0]|\n",
      "|[333.0,150.0]|\n",
      "+-------------+\n",
      "\n"
     ]
    }
   ],
   "source": [
    "assembler = VectorAssembler(\n",
    "    inputCols=[\"_c0\",\"_c1\"],\n",
    "    outputCol=\"features\")\n",
    "\n",
    "df = assembler.transform(df)\n",
    "df = df.drop(\"_c0\")\n",
    "df = df.drop(\"_c1\")\n",
    "df.show()"
   ]
  },
  {
   "cell_type": "code",
   "execution_count": 22,
   "metadata": {
    "ExecuteTime": {
     "end_time": "2021-01-17T16:45:29.660940Z",
     "start_time": "2021-01-17T16:45:29.649927Z"
    }
   },
   "outputs": [
    {
     "data": {
      "text/plain": [
       "DataFrame[summary: string]"
      ]
     },
     "execution_count": 22,
     "metadata": {},
     "output_type": "execute_result"
    }
   ],
   "source": [
    "df.describe()"
   ]
  },
  {
   "cell_type": "code",
   "execution_count": 23,
   "metadata": {
    "ExecuteTime": {
     "end_time": "2021-01-17T16:45:30.655513Z",
     "start_time": "2021-01-17T16:45:29.895524Z"
    }
   },
   "outputs": [
    {
     "name": "stdout",
     "output_type": "stream",
     "text": [
      "Gaussians shown as a DataFrame: \n",
      "+--------------------------------------+---------------------------------------------------------------------------------+\n",
      "|mean                                  |cov                                                                              |\n",
      "+--------------------------------------+---------------------------------------------------------------------------------+\n",
      "|[341.41970120031567,87.02808233175415]|181.699667706839    -720.1208974693747  \n",
      "-720.1208974693747  14240.213137177681  |\n",
      "|[341.7227384174395,83.26281973803401] |185.59598702410253  -713.195688847124  \n",
      "-713.195688847124   13567.58420783319    |\n",
      "+--------------------------------------+---------------------------------------------------------------------------------+\n",
      "\n"
     ]
    }
   ],
   "source": [
    "gmm = GaussianMixture().setK(2).setSeed(538009335)\n",
    "model = gmm.fit(df)\n",
    "print(\"Gaussians shown as a DataFrame: \")\n",
    "model.gaussiansDF.show(truncate=False)"
   ]
  },
  {
   "cell_type": "code",
   "execution_count": 24,
   "metadata": {
    "ExecuteTime": {
     "end_time": "2021-01-17T16:45:31.883514Z",
     "start_time": "2021-01-17T16:45:30.657513Z"
    }
   },
   "outputs": [
    {
     "name": "stdout",
     "output_type": "stream",
     "text": [
      "Silhouette with squared euclidean distance = 0.7651516099155794\n",
      "Cluster Centers: \n",
      "[343.  41.]\n",
      "[333. 350.]\n"
     ]
    }
   ],
   "source": [
    "kmeans = KMeans().setK(2).setSeed(1)\n",
    "model = kmeans.fit(df)\n",
    "\n",
    "# Make predictions\n",
    "predictions = model.transform(df)\n",
    "\n",
    "# Evaluate clustering by computing Silhouette score\n",
    "evaluator = ClusteringEvaluator()\n",
    "silhouette = evaluator.evaluate(predictions)\n",
    "print(\"Silhouette with squared euclidean distance = \" + str(silhouette))\n",
    "centers = model.clusterCenters()\n",
    "print(\"Cluster Centers: \")\n",
    "for center in centers:\n",
    "     print(center)"
   ]
  },
  {
   "cell_type": "code",
   "execution_count": 25,
   "metadata": {
    "ExecuteTime": {
     "end_time": "2021-01-17T16:45:33.605513Z",
     "start_time": "2021-01-17T16:45:31.885511Z"
    }
   },
   "outputs": [
    {
     "name": "stdout",
     "output_type": "stream",
     "text": [
      "Silhouette with squared euclidean distance = 0.7125317898292932\n",
      "Cluster Centers: \n",
      "[345.   19.2]\n",
      "[333. 250.]\n"
     ]
    }
   ],
   "source": [
    "bkm = BisectingKMeans().setK(2).setSeed(1)\n",
    "model = bkm.fit(df)\n",
    "predictions = model.transform(df)\n",
    "\n",
    "# Evaluate clustering by computing Silhouette score\n",
    "evaluator = ClusteringEvaluator()\n",
    "silhouette = evaluator.evaluate(predictions)\n",
    "print(\"Silhouette with squared euclidean distance = \" + str(silhouette))\n",
    "# Shows the result.\n",
    "print(\"Cluster Centers: \")\n",
    "centers = model.clusterCenters()\n",
    "for center in centers:\n",
    "    print(center)"
   ]
  },
  {
   "cell_type": "code",
   "execution_count": 26,
   "metadata": {
    "ExecuteTime": {
     "end_time": "2021-01-17T16:45:33.946524Z",
     "start_time": "2021-01-17T16:45:33.607514Z"
    }
   },
   "outputs": [],
   "source": [
    "spark.stop()"
   ]
  },
  {
   "cell_type": "code",
   "execution_count": null,
   "metadata": {},
   "outputs": [],
   "source": []
  }
 ],
 "metadata": {
  "kernelspec": {
   "display_name": "Python 3",
   "language": "python",
   "name": "python3"
  },
  "language_info": {
   "codemirror_mode": {
    "name": "ipython",
    "version": 3
   },
   "file_extension": ".py",
   "mimetype": "text/x-python",
   "name": "python",
   "nbconvert_exporter": "python",
   "pygments_lexer": "ipython3",
   "version": "3.8.3"
  }
 },
 "nbformat": 4,
 "nbformat_minor": 4
}
