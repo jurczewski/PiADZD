{
 "cells": [
  {
   "cell_type": "code",
   "execution_count": 1,
   "metadata": {
    "ExecuteTime": {
     "end_time": "2021-01-04T14:03:29.022952Z",
     "start_time": "2021-01-04T14:03:28.079931Z"
    },
    "pycharm": {
     "is_executing": false
    }
   },
   "outputs": [],
   "source": [
    "import dask.dataframe as dd\n",
    "from datetime import datetime, timedelta\n",
    "import pandas as pd\n",
    "import os.path\n",
    "import pathlib \n",
    "import seaborn as sns\n",
    "from collections import namedtuple\n",
    "import matplotlib.pyplot as plt\n",
    "from textwrap import wrap\n",
    "from matplotlib.ticker import FuncFormatter\n",
    "\n",
    "\n",
    "\n",
    "Result = namedtuple('Result', 'desc date var values')"
   ]
  },
  {
   "cell_type": "code",
   "execution_count": 4,
   "metadata": {
    "ExecuteTime": {
     "end_time": "2021-01-04T14:03:35.457925Z",
     "start_time": "2021-01-04T14:03:35.454925Z"
    },
    "pycharm": {
     "is_executing": false
    }
   },
   "outputs": [],
   "source": [
    "# file = 'some.csv'\n",
    "file = 'full.csv'\n",
    "required_cols = ['FL_DATE','DISTANCE','DEP_DELAY','ARR_DELAY','CANCELLED']"
   ]
  },
  {
   "cell_type": "code",
   "execution_count": 11,
   "metadata": {
    "ExecuteTime": {
     "end_time": "2021-01-04T16:16:01.899568Z",
     "start_time": "2021-01-04T16:16:01.356117Z"
    }
   },
   "outputs": [],
   "source": [
    "events_file = 'events_stripped.csv'\n",
    "# events_file = 'event.csv'\n",
    "dateparse = lambda x: datetime.strptime(x, '%d.%m.%Y')\n",
    "events = pd.read_csv(events_file, sep=';', names=['date', 'description'], parse_dates=['date'], date_parser=dateparse)\n",
    "# len(events)"
   ]
  },
  {
   "cell_type": "code",
   "execution_count": 6,
   "metadata": {
    "ExecuteTime": {
     "end_time": "2021-01-04T14:03:39.217939Z",
     "start_time": "2021-01-04T14:03:39.215936Z"
    }
   },
   "outputs": [],
   "source": [
    "delta = timedelta(days=7)"
   ]
  },
  {
   "cell_type": "code",
   "execution_count": 7,
   "metadata": {
    "ExecuteTime": {
     "end_time": "2021-01-04T14:03:40.646279Z",
     "start_time": "2021-01-04T14:03:40.623279Z"
    }
   },
   "outputs": [],
   "source": [
    "df = dd.read_csv(file, usecols=required_cols, parse_dates = ['FL_DATE'])"
   ]
  },
  {
   "cell_type": "code",
   "execution_count": 8,
   "metadata": {
    "ExecuteTime": {
     "end_time": "2021-01-04T14:03:46.660532Z",
     "start_time": "2021-01-04T14:03:46.655534Z"
    }
   },
   "outputs": [],
   "source": [
    "def human_format(num, pos):\n",
    "    magnitude = 0\n",
    "    while abs(num) >= 1000:\n",
    "        magnitude += 1\n",
    "        num /= 1000.0\n",
    "    # add more suffixes if you need them\n",
    "    return '%.0f%s' % (num, ['', 'K', 'M', 'G', 'T', 'P'][magnitude])\n",
    "\n",
    "\n",
    "def get_plot(setHumanFormat = False):\n",
    "    fig, ax = plt.subplots()\n",
    "    if setHumanFormat:\n",
    "        ax.yaxis.set_major_formatter(FuncFormatter(human_format))\n",
    "    plt.xticks(rotation=45)\n",
    "    \n",
    "    return fig, ax"
   ]
  },
  {
   "cell_type": "code",
   "execution_count": null,
   "metadata": {
    "ExecuteTime": {
     "end_time": "2021-01-04T13:52:35.417399Z",
     "start_time": "2021-01-04T13:52:35.386399Z"
    }
   },
   "outputs": [],
   "source": [
    "delay_results = []\n",
    "# cancelled_results = []\n",
    "for index, event in events.iterrows():\n",
    "    before, after = event.date - delta, event.date + delta\n",
    "    event_scope_df = df[(df.FL_DATE >= before) & (df.FL_DATE <= after) & (df.DEP_DELAY > 0)]\n",
    "    \n",
    "    group = event_scope_df.groupby(event_scope_df.FL_DATE)\n",
    "    size = group.DEP_DELAY.count()\n",
    "    \n",
    "    delays = group.DEP_DELAY.sum() / size\n",
    "    delay_results.append(Result(desc=event.description, date=event.date, var='delay', values=delays))\n",
    "    \n",
    "#     cancells = group.CANCELLED.sum() / group.CANCELLED.count()\n",
    "#     cancelled_results.append(Result(desc=event.description, date=event.date, var='cancells', values=cancells))\n",
    "\n"
   ]
  },
  {
   "cell_type": "code",
   "execution_count": null,
   "metadata": {
    "ExecuteTime": {
     "end_time": "2021-01-04T13:52:14.281258Z",
     "start_time": "2021-01-04T13:52:12.387258Z"
    }
   },
   "outputs": [],
   "source": [
    "for result in delay_results:\n",
    "    fig, ax = get_plot(True)\n",
    "    \n",
    "    ax.plot(list(result.values.index), list(result.values))\n",
    "    ax.axvline(result.date, color='red', label='data wydarzenia')\n",
    "    \n",
    "    plt.title('\\n'.join(wrap(result.desc, 60)))\n",
    "    plt.xlabel('Dzień')\n",
    "    plt.ylabel('Suma minut opóźnień na lot')\n",
    "    ax.legend()\n",
    "\n",
    "    plt.savefig(f'plots/{result.date.date()}_delay_sum.png', bbox_inches='tight')\n",
    "    plt.show()\n",
    "    print(result.date.date())\n",
    "    plt.close()"
   ]
  },
  {
   "cell_type": "code",
   "execution_count": 12,
   "metadata": {
    "ExecuteTime": {
     "end_time": "2021-01-04T16:16:10.685192Z",
     "start_time": "2021-01-04T16:16:10.461177Z"
    }
   },
   "outputs": [],
   "source": [
    "cancelled_results = []\n",
    "for index, event in events.iterrows():\n",
    "    before, after = event.date - delta, event.date + delta\n",
    "    event_scope_df = df[(df.FL_DATE >= before) & (df.FL_DATE <= after)]\n",
    "    \n",
    "    group = event_scope_df.groupby(event_scope_df.FL_DATE)\n",
    "    size = group.DEP_DELAY.count()\n",
    "    \n",
    "    cancells = group.CANCELLED.sum() / size\n",
    "    cancelled_results.append(Result(desc=event.description, date=event.date, var='cancells', values=cancells))"
   ]
  },
  {
   "cell_type": "code",
   "execution_count": null,
   "metadata": {
    "ExecuteTime": {
     "start_time": "2021-01-04T16:16:13.236Z"
    }
   },
   "outputs": [],
   "source": [
    "for result in cancelled_results:\n",
    "    fig, ax = get_plot()\n",
    "    \n",
    "    ax.plot(list(result.values.index), list(result.values))\n",
    "    ax.axvline(result.date, color='red', label='data wydarzenia')\n",
    "    \n",
    "    plt.title('\\n'.join(wrap(result.desc, 60)))\n",
    "    plt.xlabel('Dzień')\n",
    "    plt.ylabel('Współczynnik odwołań')\n",
    "    ax.legend()\n",
    "    plt.savefig(f'plots/cancells/{result.date.date()}_cancells.png', bbox_inches='tight')\n",
    "    print(result.date.date())\n",
    "    plt.close()"
   ]
  }
 ],
 "metadata": {
  "kernelspec": {
   "display_name": "Python 3",
   "language": "python",
   "name": "python3"
  },
  "language_info": {
   "codemirror_mode": {
    "name": "ipython",
    "version": 3
   },
   "file_extension": ".py",
   "mimetype": "text/x-python",
   "name": "python",
   "nbconvert_exporter": "python",
   "pygments_lexer": "ipython3",
   "version": "3.8.6"
  },
  "pycharm": {
   "stem_cell": {
    "cell_type": "raw",
    "metadata": {
     "collapsed": false
    },
    "source": []
   }
  }
 },
 "nbformat": 4,
 "nbformat_minor": 4
}
