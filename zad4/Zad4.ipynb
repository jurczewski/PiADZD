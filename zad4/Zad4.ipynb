{
 "cells": [
  {
   "cell_type": "code",
   "execution_count": 1,
   "metadata": {},
   "outputs": [],
   "source": [
    "from pyspark import SparkConf, SparkContext\n",
    "import math\n",
    "import itertools as it\n",
    "from operator import add"
   ]
  },
  {
   "cell_type": "code",
   "execution_count": 2,
   "metadata": {},
   "outputs": [],
   "source": [
    "sc = SparkContext('local[*]')"
   ]
  },
  {
   "cell_type": "code",
   "execution_count": 3,
   "metadata": {},
   "outputs": [],
   "source": [
    "def parse_line(line):\n",
    "    return [x for x in line.strip().split(' ')]\n",
    "\n",
    "\n",
    "file = sc.textFile('4.txt')\n",
    "sessions = file.map(parse_line)\n",
    "# sessions.take(5)"
   ]
  },
  {
   "cell_type": "code",
   "execution_count": 4,
   "metadata": {},
   "outputs": [],
   "source": [
    "def session_common_items(session, common_items):\n",
    "    if (len(common_items) > 0):\n",
    "        return [item for item in session if (item in common_items)]\n",
    "    else:\n",
    "        return session\n",
    "\n",
    "def common_combinations_tuple(session, common_items, size):\n",
    "    sess_common_items = sorted(session_common_items(session, common_items))\n",
    "    return [(comb, 1) for comb in it.combinations(sess_common_items, size)]\n",
    "\n",
    "def common_combinations_dict(sessions, common_items, size, threshold):\n",
    "    tuples = sessions.flatMap(lambda ses: common_combinations_tuple(ses, common_items, size)) \\\n",
    "                .reduceByKey(add) \\\n",
    "                .filter(lambda x: x[1] >= threshold) \\\n",
    "                .collect()\n",
    "    \n",
    "    return dict(tuples)\n",
    "\n",
    "def get_items(common_dict):\n",
    "    item_list = sc.parallelize(common_dict.keys()) \\\n",
    "            .flatMap(lambda x: x) \\\n",
    "            .collect()\n",
    "    \n",
    "    return item_list\n",
    "\n",
    "\n",
    "singles = common_combinations_dict(sessions, [], 1, 100)\n",
    "doubles = common_combinations_dict(sessions, get_items(singles), 2, 100)\n",
    "triples = common_combinations_dict(sessions, get_items(doubles), 3, 100)\n",
    "# print(len(singles))\n",
    "# print(len(doubles))\n",
    "# print(len(triples))"
   ]
  },
  {
   "cell_type": "code",
   "execution_count": 5,
   "metadata": {},
   "outputs": [],
   "source": [
    "def rule(items, combination, confidence):\n",
    "    rule_if = list(combination)\n",
    "    rule_then = list(set(items) - set(combination))\n",
    "    return ((rule_if, rule_then), confidence)\n",
    "\n",
    "def combination_rules(items, support, common_items):\n",
    "    rules = []\n",
    "    for comb in it.combinations(items, len(items) - 1):\n",
    "        if comb in common_items:\n",
    "            confidence = support / common_items[comb]            \n",
    "            rules.append(rule(items, comb, confidence))\n",
    "    \n",
    "    return rules\n",
    "\n",
    "def rules(combinations, common_items):\n",
    "    rules_lists = [combination_rules(comb, supp, common_items) for comb, supp in combinations.items()]\n",
    "    rules_list = list(it.chain(*rules_lists))\n",
    "    \n",
    "    rules_list.sort()\n",
    "    rules_list.sort(key=lambda r: r[1], reverse=True)\n",
    "    \n",
    "    return rules_list\n",
    "\n",
    "\n",
    "rules_doubles = rules(doubles, singles)\n",
    "rules_triples = rules(triples, doubles)"
   ]
  },
  {
   "cell_type": "code",
   "execution_count": 6,
   "metadata": {},
   "outputs": [],
   "source": [
    "def parse_rule(rule_tuple):\n",
    "    condition, confidence = rule_tuple\n",
    "    rule_if, rule_then = condition\n",
    "    \n",
    "    return \"{} [{}] {}\".format(\" \".join(rule_if), \" \".join(rule_then), confidence)\n",
    "\n",
    "def parse_rules(rules_tuple):\n",
    "    return [parse_rule(tup) for tup in rules_tuple]\n",
    "\n",
    "\n",
    "doubles_output = parse_rules(rules_doubles)\n",
    "triples_output = parse_rules(rules_triples)\n",
    "# print(doubles_output)\n",
    "# print(triples_output)"
   ]
  },
  {
   "cell_type": "code",
   "execution_count": 7,
   "metadata": {},
   "outputs": [],
   "source": [
    "with open(\"result_doubles.txt\", \"w\") as outfile:\n",
    "    outfile.write(\"\\n\".join(doubles_output))\n",
    "    \n",
    "with open(\"result_triples.txt\", \"w\") as outfile:\n",
    "    outfile.write(\"\\n\".join(triples_output))"
   ]
  },
  {
   "cell_type": "code",
   "execution_count": 8,
   "metadata": {},
   "outputs": [],
   "source": [
    "sc.stop()"
   ]
  }
 ],
 "metadata": {
  "kernelspec": {
   "display_name": "Python 3",
   "language": "python",
   "name": "python3"
  },
  "language_info": {
   "codemirror_mode": {
    "name": "ipython",
    "version": 3
   },
   "file_extension": ".py",
   "mimetype": "text/x-python",
   "name": "python",
   "nbconvert_exporter": "python",
   "pygments_lexer": "ipython3",
   "version": "3.8.6"
  }
 },
 "nbformat": 4,
 "nbformat_minor": 4
}
